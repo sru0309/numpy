{
 "cells": [
  {
   "cell_type": "code",
   "execution_count": 3,
   "id": "2c5ed989",
   "metadata": {},
   "outputs": [],
   "source": [
    "import numpy as np"
   ]
  },
  {
   "cell_type": "code",
   "execution_count": 1,
   "id": "5874bad5",
   "metadata": {},
   "outputs": [
    {
     "name": "stdout",
     "output_type": "stream",
     "text": [
      "[2, 4, 6, 8]\n",
      "<class 'list'>\n"
     ]
    }
   ],
   "source": [
    "l = [2,4,6,8]\n",
    "print(l)\n",
    "print(type(l))"
   ]
  },
  {
   "cell_type": "code",
   "execution_count": 4,
   "id": "4d589613",
   "metadata": {},
   "outputs": [
    {
     "name": "stdout",
     "output_type": "stream",
     "text": [
      "[2 4 6 8]\n",
      "<class 'numpy.ndarray'>\n",
      "1\n"
     ]
    }
   ],
   "source": [
    "ary = np.array([2,4,6,8])\n",
    "print(ary)\n",
    "print(type(ary))\n",
    "print(ary.ndim)"
   ]
  },
  {
   "cell_type": "code",
   "execution_count": 5,
   "id": "4aa32fb6",
   "metadata": {},
   "outputs": [
    {
     "name": "stdout",
     "output_type": "stream",
     "text": [
      "1.21.5\n"
     ]
    }
   ],
   "source": [
    "print(np.__version__)"
   ]
  },
  {
   "cell_type": "code",
   "execution_count": 8,
   "id": "281b4fd1",
   "metadata": {},
   "outputs": [
    {
     "name": "stdout",
     "output_type": "stream",
     "text": [
      "[[12 13 14 15]\n",
      " [24 25 26 27]]\n",
      "2\n"
     ]
    }
   ],
   "source": [
    "sh = np.array([[12,13,14,15],[24,25,26,27]])\n",
    "print(sh)\n",
    "print(sh.ndim)"
   ]
  },
  {
   "cell_type": "code",
   "execution_count": 22,
   "id": "680543c5",
   "metadata": {},
   "outputs": [
    {
     "name": "stdout",
     "output_type": "stream",
     "text": [
      "[[[[867 647 576  75]\n",
      "   [657 876 345 675]\n",
      "   [567 687 758 353]\n",
      "   [576 487 354 587]]]]\n",
      "4\n",
      "(1, 1, 4, 4)\n",
      "[[867 647]\n",
      " [576  75]\n",
      " [657 876]\n",
      " [345 675]\n",
      " [567 687]\n",
      " [758 353]\n",
      " [576 487]\n",
      " [354 587]]\n",
      "[[867 647 576  75 657 876 345 675]\n",
      " [567 687 758 353 576 487 354 587]]\n",
      "int32\n",
      "16\n",
      "4\n"
     ]
    }
   ],
   "source": [
    "ty = np.array ([[867,647,576,75],[657,876,345,675],[567,687,758,353],[576,487,354,587]], ndmin=4)\n",
    "print(ty)\n",
    "print(ty.ndim)\n",
    "print(ty.shape)\n",
    "print(ty.reshape(8,2))\n",
    "print(ty.reshape(2,8))\n",
    "print(ty.dtype)\n",
    "print(ty.size)\n",
    "print(ty.itemsize)\n",
    "\n",
    "\n"
   ]
  },
  {
   "cell_type": "code",
   "execution_count": null,
   "id": "3f3d0074",
   "metadata": {},
   "outputs": [],
   "source": []
  }
 ],
 "metadata": {
  "kernelspec": {
   "display_name": "Python 3 (ipykernel)",
   "language": "python",
   "name": "python3"
  },
  "language_info": {
   "codemirror_mode": {
    "name": "ipython",
    "version": 3
   },
   "file_extension": ".py",
   "mimetype": "text/x-python",
   "name": "python",
   "nbconvert_exporter": "python",
   "pygments_lexer": "ipython3",
   "version": "3.9.12"
  }
 },
 "nbformat": 4,
 "nbformat_minor": 5
}
