{
 "cells": [
  {
   "cell_type": "code",
   "execution_count": 2,
   "metadata": {},
   "outputs": [],
   "source": [
    "import numpy as np"
   ]
  },
  {
   "cell_type": "code",
   "execution_count": 3,
   "metadata": {},
   "outputs": [
    {
     "name": "stdout",
     "output_type": "stream",
     "text": [
      "(2, 3)\n"
     ]
    }
   ],
   "source": [
    "arr = np.array([[87,56,87],[76,78,67]])\n",
    "print(arr.shape)"
   ]
  },
  {
   "cell_type": "code",
   "execution_count": 4,
   "metadata": {},
   "outputs": [
    {
     "name": "stdout",
     "output_type": "stream",
     "text": [
      "(2, 2, 3)\n"
     ]
    }
   ],
   "source": [
    "er = np.array([[[87,87,83],[67,98,47]],[[87,34,49],[67,48,98]]])\n",
    "print(er.shape)"
   ]
  },
  {
   "cell_type": "code",
   "execution_count": 7,
   "metadata": {},
   "outputs": [
    {
     "name": "stdout",
     "output_type": "stream",
     "text": [
      "[[[[[7 9 7 8 4 8 8 4]]]]]\n",
      "(1, 1, 1, 1, 8)\n"
     ]
    }
   ],
   "source": [
    "we = np.array([7,9,7,8,4,8,8,4],ndmin=5)\n",
    "print(we)\n",
    "print(we.shape)"
   ]
  },
  {
   "cell_type": "code",
   "execution_count": 10,
   "metadata": {},
   "outputs": [
    {
     "name": "stdout",
     "output_type": "stream",
     "text": [
      "[[[[[8 6 4 5]\n",
      "    [4 6 8 9]\n",
      "    [8 4 2 1]]]]]\n",
      "(1, 1, 1, 3, 4)\n"
     ]
    }
   ],
   "source": [
    "ns = np.array([[[8,6,4,5],[4,6,8,9],[8,4,2,1]]],ndmin=5)\n",
    "print(ns)\n",
    "print(ns.shape)"
   ]
  },
  {
   "cell_type": "code",
   "execution_count": 11,
   "metadata": {},
   "outputs": [
    {
     "name": "stdout",
     "output_type": "stream",
     "text": [
      "[[[[[8 6 4 5]\n",
      "    [4 6 8 9]\n",
      "    [8 4 2 1]\n",
      "    [1 4 8 9]]]]]\n",
      "(1, 1, 1, 4, 4)\n"
     ]
    }
   ],
   "source": [
    "ns = np.array([[[8,6,4,5],[4,6,8,9],[8,4,2,1],[1,4,8,9]]],ndmin=5)\n",
    "print(ns)\n",
    "print(ns.shape)"
   ]
  },
  {
   "cell_type": "code",
   "execution_count": null,
   "metadata": {},
   "outputs": [],
   "source": []
  },
  {
   "cell_type": "code",
   "execution_count": null,
   "metadata": {},
   "outputs": [],
   "source": []
  }
 ],
 "metadata": {
  "kernelspec": {
   "display_name": "base",
   "language": "python",
   "name": "python3"
  },
  "language_info": {
   "codemirror_mode": {
    "name": "ipython",
    "version": 3
   },
   "file_extension": ".py",
   "mimetype": "text/x-python",
   "name": "python",
   "nbconvert_exporter": "python",
   "pygments_lexer": "ipython3",
   "version": "3.9.12"
  },
  "orig_nbformat": 4,
  "vscode": {
   "interpreter": {
    "hash": "daee99e6893c0f9b4fa2cee7c11289a4ac1788238c3c1d2caa83921531d37465"
   }
  }
 },
 "nbformat": 4,
 "nbformat_minor": 2
}
